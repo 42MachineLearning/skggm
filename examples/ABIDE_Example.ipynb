{
 "cells": [
  {
   "cell_type": "code",
   "execution_count": null,
   "metadata": {
    "collapsed": false
   },
   "outputs": [],
   "source": [
    "#Setup\n",
    "import os, subprocess\n",
    "\n",
    "print os.getcwd()\n",
    "newdir = os.path.expanduser('~/scikitquic')\n",
    "print newdir\n",
    "os.chdir(newdir)"
   ]
  },
  {
   "cell_type": "code",
   "execution_count": null,
   "metadata": {
    "collapsed": false
   },
   "outputs": [],
   "source": [
    "# %load examples/plot_functional_brain_networks.py\n",
    "\"\"\"\n",
    "Estimate Functional Connectivity using an estimator for Sparse Inverse Covariances\n",
    "==================================================================================\n",
    "This example constructs a functional connectome using the sparse penalized MLE estimator implemented using QUIC.\n",
    "\n",
    "This function extracts time-series from the ABIDE dataset, with nodes defined using regions of interest from the \n",
    "Power-264 atlas (Power, 2011).\n",
    "Power, Jonathan D., et al. \"Functional network organization of the\n",
    "human brain.\" Neuron 72.4 (2011): 665-678.\n",
    "\n",
    "Then we estimate separate inverse covariance matrices for one subject\n",
    "\n",
    "\"\"\"\n",
    "\n",
    "import numpy as np\n",
    "import matplotlib.pyplot as plt\n",
    "from nilearn import datasets, connectome, plotting, input_data\n",
    "from inverse_covariance import InverseCovariance,pyquic\n",
    "\n",
    "# Retrieve the atlas and the data\n",
    "from nilearn import datasets\n",
    "\n",
    "# Fetch the coordinates of power atlas, ROI labels not available.\n",
    "power = datasets.fetch_coords_power_2011()\n",
    "coords = np.vstack((\n",
    "    power.rois['x'],\n",
    "    power.rois['y'],\n",
    "    power.rois['z'],\n",
    ")).T\n",
    "\n",
    "# Loading the functional datasets\n",
    "abide = datasets.fetch_abide_pcp(n_subjects=1)\n",
    "abide.func = abide.func_preproc\n",
    "\n",
    "# print basic information on the dataset\n",
    "print('First subject functional nifti images (4D) are at: %s' %\n",
    "      abide.func[0])  # 4D data\n",
    "      \n",
    "# Masking: taking the signal in a sphere of radius 5mm around Power coords\n",
    "masker = input_data.NiftiSpheresMasker(seeds=coords,\n",
    "                                       smoothing_fwhm=4,\n",
    "                                       radius=5.,\n",
    "                                       standardize=True,\n",
    "                                       detrend=True,\n",
    "                                       low_pass=0.1,\n",
    "                                       high_pass=0.01,\n",
    "                                       t_r=2.5)\n",
    "\n",
    "timeseries = masker.fit_transform(abide.func[0])\n"
   ]
  },
  {
   "cell_type": "code",
   "execution_count": null,
   "metadata": {
    "collapsed": false
   },
   "outputs": [],
   "source": [
    "# Extract and plot covariance and sparse covariance\n",
    "\n",
    "# Compute the sparse inverse covariance\n",
    "Shat =  np.cov(timeseries[:,:],rowvar=0)\n",
    "estimator = InverseCovariance(lam = float(.5*np.max(np.triu(np.abs(Shat),1))), mode='default',verbose=1)\n",
    "estimator.fit(Shat)"
   ]
  },
  {
   "cell_type": "code",
   "execution_count": null,
   "metadata": {
    "collapsed": false
   },
   "outputs": [],
   "source": [
    "# Display the sparse inverse covariance\n",
    "plt.figure(figsize=(7.5, 7.5))\n",
    "plt.imshow(np.triu(-estimator.precision_,1), interpolation=\"nearest\", cmap=plt.cm.PRGn)\n",
    "plt.title('Precision (Sparse Inverse Covariance) matrix')\n",
    "plt.colorbar()\n",
    "\n",
    "# And now display the corresponding graph\n",
    "plotting.plot_connectome(estimator.precision_, coords,\n",
    "                         title='Functional Connectivity using Precision Matrix',\n",
    "                         edge_threshold=\"99.2%\",\n",
    "                         node_size=20)\n",
    "plotting.show()"
   ]
  }
 ],
 "metadata": {
  "kernelspec": {
   "display_name": "Python 2 (SageMath)",
   "language": "python",
   "name": "python2"
  },
  "language_info": {
   "codemirror_mode": {
    "name": "ipython",
    "version": 2
   },
   "file_extension": ".py",
   "mimetype": "text/x-python",
   "name": "python",
   "nbconvert_exporter": "python",
   "pygments_lexer": "ipython2",
   "version": "2.7.10"
  }
 },
 "nbformat": 4,
 "nbformat_minor": 0
}
